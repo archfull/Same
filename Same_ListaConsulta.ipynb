{
  "nbformat": 4,
  "nbformat_minor": 0,
  "metadata": {
    "colab": {
      "provenance": [],
      "collapsed_sections": [
        "QaZLpMuGP9Dj"
      ]
    },
    "kernelspec": {
      "name": "python3",
      "display_name": "Python 3"
    },
    "language_info": {
      "name": "python"
    }
  },
  "cells": [
    {
      "cell_type": "markdown",
      "source": [
        "# **Importando Bibliotecas**"
      ],
      "metadata": {
        "id": "6Uwj0zzis5hU"
      }
    },
    {
      "cell_type": "code",
      "source": [
        "!pip install pdfplumber -q\n",
        "!pip install xlsxwriter"
      ],
      "metadata": {
        "colab": {
          "base_uri": "https://localhost:8080/"
        },
        "id": "LeJQnwhCYSfZ",
        "outputId": "cf63d8d8-ee07-47c6-ff9e-2a2b0c76cec8"
      },
      "execution_count": 33,
      "outputs": [
        {
          "output_type": "stream",
          "name": "stdout",
          "text": [
            "Requirement already satisfied: xlsxwriter in /usr/local/lib/python3.10/dist-packages (3.1.9)\n"
          ]
        }
      ]
    },
    {
      "cell_type": "code",
      "source": [
        "import pdfplumber\n",
        "import os\n",
        "import pandas as pd\n",
        "import xlsxwriter\n",
        "from pprint import pprint"
      ],
      "metadata": {
        "id": "kgLOftyUU8m4"
      },
      "execution_count": 34,
      "outputs": []
    },
    {
      "cell_type": "markdown",
      "source": [
        "# **Funcoes**"
      ],
      "metadata": {
        "id": "UBRuQNGaswbx"
      }
    },
    {
      "cell_type": "code",
      "source": [
        "def dadosPagina(pdf,pagina):\n",
        "    page = pdf.pages[pagina]\n",
        "    head = page.extract_text_simple()\n",
        "    head = head.split('\\n')\n",
        "    cabecalho = []\n",
        "    table = page.extract_table()\n",
        "    return head,table\n",
        "\n",
        "def cabecalho(pdf,pagina):\n",
        "    page = pdf.pages[pagina]\n",
        "    head = page.extract_text_simple()\n",
        "    head = head.split('\\n')\n",
        "    return head\n"
      ],
      "metadata": {
        "id": "X9CQ2npuwIf3"
      },
      "execution_count": 35,
      "outputs": []
    },
    {
      "cell_type": "markdown",
      "source": [
        "# **Agendamento**"
      ],
      "metadata": {
        "id": "CoYrL2fJszY6"
      }
    },
    {
      "cell_type": "code",
      "source": [
        "pdf = pdfplumber.open('/content/Relatório.pdf')\n",
        "qtdPages = len(pdf.pages)"
      ],
      "metadata": {
        "id": "YTNpX5H8AjNo"
      },
      "execution_count": 98,
      "outputs": []
    },
    {
      "cell_type": "code",
      "source": [
        "#Pegando o numero de pagina por profissional\n",
        "\n",
        "profPaginas = {}\n",
        "\n",
        "paginas = []\n",
        "\n",
        "for pagina in range(0,qtdPages-1):\n",
        "    head,table = dadosPagina(pdf,pagina)\n",
        "    if \"Profissional\" in head[5]:\n",
        "        paginas.append(pagina)\n",
        "        profPaginas[head[5][14:]] = pagina\n",
        "\n",
        "contador = 0\n",
        "for prof, page in profPaginas.items():\n",
        "    pages = []\n",
        "    if contador < len(paginas):\n",
        "        try:\n",
        "            for x in range(paginas[contador],paginas[contador+1]):\n",
        "                pages.append(x)\n",
        "            contador += 1\n",
        "        except:\n",
        "            for x in range(profPaginas[prof],qtdPages-1):\n",
        "                pages.append(x)\n",
        "    profPaginas[prof] = pages"
      ],
      "metadata": {
        "id": "jDp5KSe8xCv7"
      },
      "execution_count": 103,
      "outputs": []
    },
    {
      "cell_type": "code",
      "source": [
        "#Pegando todos os pacientes que possuem consulta por medico:\n",
        "\n",
        "profPacientes = {}\n",
        "for prof, paginas in profPaginas.items():\n",
        "    linhas = []\n",
        "    if len(paginas) > 1:\n",
        "        for pagina in paginas:\n",
        "            head,table = dadosPagina(pdf,pagina)\n",
        "            if pagina == paginas[0]:\n",
        "                for linha in table[1:]:\n",
        "                    linhas.append(linha)\n",
        "            elif pagina != paginas[0]:\n",
        "                for linha in table[0:]:\n",
        "                    linhas.append(linha)\n",
        "        profPacientes[prof] = linhas\n",
        "    if len(paginas) <= 1:\n",
        "        head,table = dadosPagina(pdf,paginas[0])\n",
        "        for linha in table[1:]:\n",
        "            linhas.append(linha)\n",
        "        profPacientes[prof] = linhas\n",
        "\n",
        "#Pegando a especialidade de cada médico:\n",
        "profEspecialidade = {}\n",
        "for pagina in range(0,qtdPages):\n",
        "    head,table = dadosPagina(pdf,pagina)\n",
        "    if \"Profissional\" in head[5]:\n",
        "        profEspecialidade[head[5][14:]] = head[7][15:]\n",
        "\n",
        "#Convertendo a coluna de prontuarios para o formato INT:\n",
        "for prof, linha in profPacientes.items():\n",
        "    for x in range(0,len(linha)):\n",
        "        prontuario = profPacientes[prof][x][3]\n",
        "        try:\n",
        "            profPacientes[prof][x][3] = int(prontuario)\n",
        "        except:\n",
        "            pass\n",
        "\n",
        "#Ordenando a coluna prontuarios em ordem crescente\n",
        "for prof, linha in profPacientes.items():\n",
        "    temp = {}\n",
        "    sortedTemp = {}\n",
        "    contador = 1\n",
        "    for x in range(0,len(linha)):\n",
        "        prontuario = profPacientes[prof][x][3]\n",
        "        if type(prontuario) == type('teste'):\n",
        "            prontuario = contador\n",
        "            contador = contador + 1\n",
        "        temp[prontuario] = linha[x]\n",
        "    for x in sorted(temp):\n",
        "        sortedTemp[x] = temp[x]\n",
        "    profPacientes[prof] = sortedTemp.values()"
      ],
      "metadata": {
        "id": "OSiviillIgHp"
      },
      "execution_count": 105,
      "outputs": []
    },
    {
      "cell_type": "code",
      "source": [
        "workbook = xlsxwriter.Workbook(\"Agendamento.xlsx\")\n",
        "cell_format1 = workbook.add_format()\n",
        "cell_format2 = workbook.add_format()\n",
        "cell_format3 = workbook.add_format()\n",
        "tamanho_col = {1:173.68,2:85.41,3:86.55,4:175,5:99.04,6:175,7:80.125,8:133}\n",
        "pagina = 0\n",
        "colunas = [\"Horário\", \"Paciente\", \"Data Nasc.\", \"Prontuário\", \"Exames\",\n",
        "            \"Telefone\", \"Observação\", \"CNS\", \"Seq. Atendimento\",]\n",
        "\n",
        "for prof, pacientes in profPacientes.items():\n",
        "    contador = 10\n",
        "    contador2 = 6\n",
        "    contador3 = 0\n",
        "    worksheet = workbook.add_worksheet(f\"Pagina {pagina+1}\")\n",
        "    head = []\n",
        "\n",
        "    if len(profPacientes[prof]) > 13:\n",
        "        head = cabecalho(pdf,profPaginas[prof][0])\n",
        "        #Inserindo o cabecalho* da pagina\n",
        "        for linha in range(0,8):\n",
        "            cell_format1.set_bold()\n",
        "            cell_format1.set_font_size(12)\n",
        "            worksheet.write(linha,0,head[linha],cell_format1)\n",
        "\n",
        "        for linha in range(0,14):\n",
        "            cell_format2.set_align('vcenter')\n",
        "            cell_format2.set_align('justify')\n",
        "            cell_format2.set_border(1)\n",
        "            value = list(profPacientes[prof])\n",
        "            for coluna in [0,1,2,3,4,5,6,7,8]:\n",
        "                worksheet.write(contador,coluna,value[linha][coluna],cell_format2)\n",
        "\n",
        "                if coluna == 5:\n",
        "                    if value[linha][5].count('\\n') == 0 and value[linha][7].count('\\n') == 0:\n",
        "                        pass\n",
        "                    elif value[linha][5].count('\\n') > value[linha][7].count('\\n'):\n",
        "                        if value[linha][5].count('\\n') == 1:\n",
        "                            worksheet.set_row(contador,25)\n",
        "                        elif value[linha][5].count('\\n') == 2:\n",
        "                            worksheet.set_row(contador,35)\n",
        "                        elif value[linha][5].count('\\n') == 3:\n",
        "                            worksheet.set_row(contador,48)\n",
        "                    elif value[linha][7].count('\\n') > value[linha][5].count('\\n'):\n",
        "                        worksheet.set_row(contador,26)\n",
        "                    elif value[linha][7].count('\\n') == 1 and value[linha][5].count('\\n') == 1:\n",
        "                        worksheet.set_row(contador,26)\n",
        "            contador += 1\n",
        "        worksheet.set_landscape()\n",
        "        worksheet.print_area('A1:I28')\n",
        "        worksheet.set_print_scale(90)\n",
        "        worksheet.set_margins(left=0.20, right=0.10, top=0.15, bottom=0.15)\n",
        "\n",
        "        for coluna in [0,1,2,3,4,5,6,7,8]:\n",
        "            cell_format3.set_bg_color('#B4B4B4')\n",
        "            cell_format3.set_bold()\n",
        "            cell_format3.set_font_size(12)\n",
        "            worksheet.write(9,coluna,colunas[coluna],cell_format3)\n",
        "\n",
        "        #Alterando o tamanho das colunas:\n",
        "        for key, value in tamanho_col.items():\n",
        "            worksheet.set_column_pixels(key,key,value)\n",
        "\n",
        "        #Inserindo o final da planilha.\n",
        "        worksheet.write(26,0,head[-2],cell_format1)\n",
        "        worksheet.write(27,0,head[-1],cell_format1)\n",
        "\n",
        "        pagina += 1\n",
        "        worksheet = workbook.add_worksheet(f\"Pagina {pagina+1}\")\n",
        "        try:\n",
        "            head = cabecalho(pdf,profPaginas[prof][1])\n",
        "        except:\n",
        "            pass\n",
        "\n",
        "        if len(pacientes) == 14:\n",
        "            pagina += 1\n",
        "            pass\n",
        "        else:\n",
        "            for linha in range(0,4):\n",
        "                worksheet.write(linha,0,head[linha],cell_format1)\n",
        "\n",
        "            for linha in range(14,len(pacientes)):\n",
        "                value = list(profPacientes[prof])\n",
        "                for coluna in [0,1,2,3,4,5,6,7,8]:\n",
        "                    worksheet.write(contador2,coluna,value[linha][coluna],cell_format2)\n",
        "                    if coluna == 5:\n",
        "                        if value[linha][5].count('\\n') == 0 and value[linha][7].count('\\n') == 0:\n",
        "                            pass\n",
        "                        elif value[linha][5].count('\\n') > value[linha][7].count('\\n'):\n",
        "                            if value[linha][5].count('\\n') == 1:\n",
        "                                worksheet.set_row(contador2,25)\n",
        "                            elif value[linha][5].count('\\n') == 2:\n",
        "                                worksheet.set_row(contador2,35)\n",
        "                            elif value[linha][5].count('\\n') == 3:\n",
        "                                worksheet.set_row(contador2,48)\n",
        "                        elif value[linha][7].count('\\n') > value[linha][5].count('\\n'):\n",
        "                            worksheet.set_row(contador2,26)\n",
        "                        elif value[linha][7].count('\\n') == 1 and value[linha][5].count('\\n') == 1:\n",
        "                            worksheet.set_row(contador2,26)\n",
        "                contador2 += 1\n",
        "\n",
        "            #Alterando as configuracoes de pagina da planilha\n",
        "            worksheet.set_landscape()\n",
        "            worksheet.print_area('A1:I28')\n",
        "            worksheet.set_print_scale(90)\n",
        "            worksheet.set_margins(left=0.20, right=0.10, top=0.15, bottom=0.15)\n",
        "\n",
        "\n",
        "            for coluna in [0,1,2,3,4,5,6,7,8]:\n",
        "                cell_format3.set_bg_color('#B4B4B4')\n",
        "                cell_format3.set_bold()\n",
        "                cell_format3.set_font_size(12)\n",
        "                worksheet.write(5,coluna,colunas[coluna],cell_format3)\n",
        "        #Alterando o tamanho das colunas:\n",
        "            for key, value in tamanho_col.items():\n",
        "                worksheet.set_column_pixels(key,key,value)\n",
        "\n",
        "        #Inserindo o final da planilha.\n",
        "            worksheet.write(26,0,head[-2],cell_format1)\n",
        "            worksheet.write(27,0,head[-1],cell_format1)\n",
        "\n",
        "            pagina += 1\n",
        "\n",
        "    elif len(profPacientes[prof]) <= 13:\n",
        "        head = cabecalho(pdf,profPaginas[prof][0])\n",
        "        #Inserindo o cabecalho* da pagina\n",
        "        for linha in range(0,8):\n",
        "            cell_format1.set_bold()\n",
        "            cell_format1.set_font_size(12)\n",
        "            worksheet.write(linha,0,head[linha],cell_format1)\n",
        "\n",
        "        for linha in range(0,len(pacientes)):\n",
        "            cell_format2.set_align('vcenter')\n",
        "            cell_format2.set_align('justify')\n",
        "            cell_format2.set_border(1)\n",
        "            value = list(profPacientes[prof])\n",
        "            for coluna in [0,1,2,3,4,5,6,7,8]:\n",
        "                worksheet.write(contador,coluna,value[linha][coluna],cell_format2)\n",
        "                if coluna == 5:\n",
        "                    if value[linha][5].count('\\n') == 0 and value[linha][7].count('\\n') == 0:\n",
        "                        pass\n",
        "                    elif value[linha][5].count('\\n') > value[linha][7].count('\\n'):\n",
        "                        if value[linha][5].count('\\n') == 1:\n",
        "                            worksheet.set_row(contador,25)\n",
        "                        elif value[linha][5].count('\\n') == 2:\n",
        "                            worksheet.set_row(contador,35)\n",
        "                        elif value[linha][5].count('\\n') == 3:\n",
        "                            worksheet.set_row(contador,48)\n",
        "                    elif value[linha][7].count('\\n') > value[linha][5].count('\\n'):\n",
        "                        worksheet.set_row(contador,26)\n",
        "                    elif value[linha][7].count('\\n') == 1 and value[linha][5].count('\\n') == 1:\n",
        "                        worksheet.set_row(contador,26)\n",
        "            contador += 1\n",
        "        worksheet.set_landscape()\n",
        "        worksheet.print_area('A1:I28')\n",
        "        worksheet.set_print_scale(90)\n",
        "        worksheet.set_margins(left=0.20, right=0.10, top=0.15, bottom=0.15)\n",
        "\n",
        "\n",
        "        for coluna in [0,1,2,3,4,5,6,7,8]:\n",
        "            cell_format3.set_bg_color('#B4B4B4')\n",
        "            cell_format3.set_bold()\n",
        "            cell_format3.set_font_size(12)\n",
        "            worksheet.write(9,coluna,colunas[coluna],cell_format3)\n",
        "\n",
        "        #Alterando o tamanho das colunas:\n",
        "        for key, value in tamanho_col.items():\n",
        "            worksheet.set_column_pixels(key,key,value)\n",
        "\n",
        "        #Inserindo o final da planilha.\n",
        "        worksheet.write(26,0,head[-2],cell_format1)\n",
        "        worksheet.write(27,0,head[-1],cell_format1)\n",
        "\n",
        "        pagina += 1\n",
        "\n",
        "workbook.close()"
      ],
      "metadata": {
        "id": "rS1WrJBt8vfT"
      },
      "execution_count": 145,
      "outputs": []
    }
  ]
}